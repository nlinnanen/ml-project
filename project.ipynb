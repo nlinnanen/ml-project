{
 "cells": [
  {
   "cell_type": "code",
   "execution_count": 43,
   "metadata": {},
   "outputs": [],
   "source": [
    "import numpy as np\n",
    "import pandas as pd\n",
    "import matplotlib.pyplot as plt\n",
    "import seaborn as sns  #data visualization library\n",
    "\n",
    "from sklearn.tree import DecisionTreeClassifier  # Decision tree algorithm\n",
    "from sklearn.linear_model import LogisticRegression\n",
    "from sklearn.model_selection import train_test_split\n",
    "from sklearn.preprocessing import StandardScaler\n",
    "from sklearn.metrics import confusion_matrix, accuracy_score, classification_report"
   ]
  },
  {
   "cell_type": "markdown",
   "metadata": {},
   "source": [
    "### Data import \n",
    "\n",
    "First we read the data into a pandas dataframe and display the first few rows."
   ]
  },
  {
   "cell_type": "code",
   "execution_count": 44,
   "metadata": {},
   "outputs": [
    {
     "data": {
      "text/html": [
       "<div>\n",
       "<style scoped>\n",
       "    .dataframe tbody tr th:only-of-type {\n",
       "        vertical-align: middle;\n",
       "    }\n",
       "\n",
       "    .dataframe tbody tr th {\n",
       "        vertical-align: top;\n",
       "    }\n",
       "\n",
       "    .dataframe thead th {\n",
       "        text-align: right;\n",
       "    }\n",
       "</style>\n",
       "<table border=\"1\" class=\"dataframe\">\n",
       "  <thead>\n",
       "    <tr style=\"text-align: right;\">\n",
       "      <th></th>\n",
       "      <th>url</th>\n",
       "      <th>source</th>\n",
       "      <th>label</th>\n",
       "      <th>url_length</th>\n",
       "      <th>starts_with_ip</th>\n",
       "      <th>url_entropy</th>\n",
       "      <th>has_punycode</th>\n",
       "      <th>digit_letter_ratio</th>\n",
       "      <th>dot_count</th>\n",
       "      <th>at_count</th>\n",
       "      <th>dash_count</th>\n",
       "      <th>tld_count</th>\n",
       "      <th>domain_has_digits</th>\n",
       "      <th>subdomain_count</th>\n",
       "      <th>nan_char_entropy</th>\n",
       "      <th>has_internal_links</th>\n",
       "      <th>whois_data</th>\n",
       "      <th>domain_age_days</th>\n",
       "    </tr>\n",
       "  </thead>\n",
       "  <tbody>\n",
       "    <tr>\n",
       "      <th>0</th>\n",
       "      <td>apaceast.cloudguest.central.arubanetworks.com</td>\n",
       "      <td>Cisco-Umbrella</td>\n",
       "      <td>legitimate</td>\n",
       "      <td>45</td>\n",
       "      <td>False</td>\n",
       "      <td>3.924535</td>\n",
       "      <td>False</td>\n",
       "      <td>0.0</td>\n",
       "      <td>4</td>\n",
       "      <td>0</td>\n",
       "      <td>0</td>\n",
       "      <td>0</td>\n",
       "      <td>False</td>\n",
       "      <td>3</td>\n",
       "      <td>0.310387</td>\n",
       "      <td>False</td>\n",
       "      <td>{'domain_name': ['ARUBANETWORKS.COM', 'arubane...</td>\n",
       "      <td>8250.0</td>\n",
       "    </tr>\n",
       "    <tr>\n",
       "      <th>1</th>\n",
       "      <td>quintadonoval.com</td>\n",
       "      <td>Majestic</td>\n",
       "      <td>legitimate</td>\n",
       "      <td>17</td>\n",
       "      <td>False</td>\n",
       "      <td>3.572469</td>\n",
       "      <td>False</td>\n",
       "      <td>0.0</td>\n",
       "      <td>1</td>\n",
       "      <td>0</td>\n",
       "      <td>0</td>\n",
       "      <td>0</td>\n",
       "      <td>False</td>\n",
       "      <td>0</td>\n",
       "      <td>0.240439</td>\n",
       "      <td>False</td>\n",
       "      <td>{'domain_name': ['QUINTADONOVAL.COM', 'quintad...</td>\n",
       "      <td>10106.0</td>\n",
       "    </tr>\n",
       "    <tr>\n",
       "      <th>2</th>\n",
       "      <td>nomadfactory.com</td>\n",
       "      <td>Majestic</td>\n",
       "      <td>legitimate</td>\n",
       "      <td>16</td>\n",
       "      <td>False</td>\n",
       "      <td>3.327820</td>\n",
       "      <td>False</td>\n",
       "      <td>0.0</td>\n",
       "      <td>1</td>\n",
       "      <td>0</td>\n",
       "      <td>0</td>\n",
       "      <td>0</td>\n",
       "      <td>False</td>\n",
       "      <td>0</td>\n",
       "      <td>0.250000</td>\n",
       "      <td>False</td>\n",
       "      <td>{'domain_name': ['NOMADFACTORY.COM', 'nomadfac...</td>\n",
       "      <td>8111.0</td>\n",
       "    </tr>\n",
       "    <tr>\n",
       "      <th>3</th>\n",
       "      <td>tvarenasport.com</td>\n",
       "      <td>Majestic</td>\n",
       "      <td>legitimate</td>\n",
       "      <td>16</td>\n",
       "      <td>False</td>\n",
       "      <td>3.500000</td>\n",
       "      <td>False</td>\n",
       "      <td>0.0</td>\n",
       "      <td>1</td>\n",
       "      <td>0</td>\n",
       "      <td>0</td>\n",
       "      <td>0</td>\n",
       "      <td>False</td>\n",
       "      <td>0</td>\n",
       "      <td>0.250000</td>\n",
       "      <td>False</td>\n",
       "      <td>{'domain_name': ['TVARENASPORT.COM', 'tvarenas...</td>\n",
       "      <td>5542.0</td>\n",
       "    </tr>\n",
       "    <tr>\n",
       "      <th>4</th>\n",
       "      <td>widget.cluster.groovehq.com</td>\n",
       "      <td>Cisco-Umbrella</td>\n",
       "      <td>legitimate</td>\n",
       "      <td>27</td>\n",
       "      <td>False</td>\n",
       "      <td>3.930270</td>\n",
       "      <td>False</td>\n",
       "      <td>0.0</td>\n",
       "      <td>3</td>\n",
       "      <td>0</td>\n",
       "      <td>0</td>\n",
       "      <td>0</td>\n",
       "      <td>False</td>\n",
       "      <td>2</td>\n",
       "      <td>0.352214</td>\n",
       "      <td>False</td>\n",
       "      <td>{'domain_name': 'GROOVEHQ.COM', 'registrar': '...</td>\n",
       "      <td>5098.0</td>\n",
       "    </tr>\n",
       "  </tbody>\n",
       "</table>\n",
       "</div>"
      ],
      "text/plain": [
       "                                             url          source       label  \\\n",
       "0  apaceast.cloudguest.central.arubanetworks.com  Cisco-Umbrella  legitimate   \n",
       "1                              quintadonoval.com        Majestic  legitimate   \n",
       "2                               nomadfactory.com        Majestic  legitimate   \n",
       "3                               tvarenasport.com        Majestic  legitimate   \n",
       "4                    widget.cluster.groovehq.com  Cisco-Umbrella  legitimate   \n",
       "\n",
       "   url_length  starts_with_ip  url_entropy  has_punycode  digit_letter_ratio  \\\n",
       "0          45           False     3.924535         False                 0.0   \n",
       "1          17           False     3.572469         False                 0.0   \n",
       "2          16           False     3.327820         False                 0.0   \n",
       "3          16           False     3.500000         False                 0.0   \n",
       "4          27           False     3.930270         False                 0.0   \n",
       "\n",
       "   dot_count  at_count  dash_count  tld_count  domain_has_digits  \\\n",
       "0          4         0           0          0              False   \n",
       "1          1         0           0          0              False   \n",
       "2          1         0           0          0              False   \n",
       "3          1         0           0          0              False   \n",
       "4          3         0           0          0              False   \n",
       "\n",
       "   subdomain_count  nan_char_entropy  has_internal_links  \\\n",
       "0                3          0.310387               False   \n",
       "1                0          0.240439               False   \n",
       "2                0          0.250000               False   \n",
       "3                0          0.250000               False   \n",
       "4                2          0.352214               False   \n",
       "\n",
       "                                          whois_data  domain_age_days  \n",
       "0  {'domain_name': ['ARUBANETWORKS.COM', 'arubane...           8250.0  \n",
       "1  {'domain_name': ['QUINTADONOVAL.COM', 'quintad...          10106.0  \n",
       "2  {'domain_name': ['NOMADFACTORY.COM', 'nomadfac...           8111.0  \n",
       "3  {'domain_name': ['TVARENASPORT.COM', 'tvarenas...           5542.0  \n",
       "4  {'domain_name': 'GROOVEHQ.COM', 'registrar': '...           5098.0  "
      ]
     },
     "execution_count": 44,
     "metadata": {},
     "output_type": "execute_result"
    }
   ],
   "source": [
    "df = pd.read_csv('data.csv')\n",
    "\n",
    "# Print the first 5 rows of the DataFrame 'df'\n",
    "df.head(5)"
   ]
  },
  {
   "cell_type": "markdown",
   "metadata": {},
   "source": [
    "### Data preprocessing\n",
    "\n",
    "First we check for missing values and drop the rows that contain missing values. Then we drop the columns that are not useful for our analysis.\n",
    "\n",
    "We export the featrues and labels into two separate dataframes. We also convert the labels into numerical values."
   ]
  },
  {
   "cell_type": "code",
   "execution_count": 45,
   "metadata": {},
   "outputs": [
    {
     "name": "stdout",
     "output_type": "stream",
     "text": [
      "Number of rows: 1749311\n",
      "Number of columns: 14\n",
      "Number of phishing websites: 652908\n",
      "Number of legitimate websites: 1096403\n"
     ]
    }
   ],
   "source": [
    "df = df.dropna()\n",
    "df.drop(columns=['url', 'source', 'whois_data'], inplace=True)  # drop unrelevant columns\n",
    "\n",
    "X = df.drop(columns=['label'])\n",
    "\n",
    "# Convert the 'label' column to a numerical value\n",
    "y = df['label'].map({'legitimate': 0, 'phishing': 1})\n",
    "\n",
    "# Stats about the dataset\n",
    "print('Number of rows:', X.shape[0])\n",
    "print('Number of columns:', X.shape[1])\n",
    "print('Number of phishing websites:', y[y == 1].shape[0])\n",
    "print('Number of legitimate websites:', y[y == 0].shape[0])"
   ]
  },
  {
   "cell_type": "markdown",
   "metadata": {},
   "source": [
    "### Scaling and splitting the data\n",
    "\n",
    "We scale the features using the StandardScaler and split the data into training and testing sets."
   ]
  },
  {
   "cell_type": "code",
   "execution_count": 46,
   "metadata": {},
   "outputs": [],
   "source": [
    "\n",
    "scaler = StandardScaler()\n",
    "scaler.fit(X)\n",
    "X = scaler.transform(X)\n",
    "\n",
    "X_train, X_test, y_train, y_test = train_test_split(X, y, test_size=0.2)"
   ]
  },
  {
   "cell_type": "markdown",
   "metadata": {},
   "source": [
    "## Model building\n",
    "\n",
    "### Decision Tree\n",
    "\n",
    "We build a decision tree model and evaluate its performance using the accuracy score."
   ]
  },
  {
   "cell_type": "code",
   "execution_count": 47,
   "metadata": {},
   "outputs": [
    {
     "name": "stdout",
     "output_type": "stream",
     "text": [
      "Accuracy: 1.00\n"
     ]
    }
   ],
   "source": [
    "model = DecisionTreeClassifier()\n",
    "model.fit(X_train, y_train)\n",
    "\n",
    "y_pred = model.predict(X_test)\n",
    "\n",
    "# Evaluate the model\n",
    "accuracy = accuracy_score(y_test, y_pred)\n",
    "print('Accuracy: {:.2f}'.format(accuracy))"
   ]
  },
  {
   "cell_type": "markdown",
   "metadata": {},
   "source": [
    "#### Metrics \n",
    "\n",
    "We also plot the confusion matrix and some classification metrics like precision, recall and f1-score to evaluate the model \n",
    "performance."
   ]
  },
  {
   "cell_type": "code",
   "execution_count": 48,
   "metadata": {},
   "outputs": [
    {
     "data": {
      "image/png": "[encoded data removed]",
      "text/plain": [
       "<Figure size 500x400 with 2 Axes>"
      ]
     },
     "metadata": {},
     "output_type": "display_data"
    },
    {
     "name": "stdout",
     "output_type": "stream",
     "text": [
      "              precision    recall  f1-score   support\n",
      "\n",
      "           0       1.00      1.00      1.00    219249\n",
      "           1       1.00      1.00      1.00    130614\n",
      "\n",
      "    accuracy                           1.00    349863\n",
      "   macro avg       1.00      1.00      1.00    349863\n",
      "weighted avg       1.00      1.00      1.00    349863\n",
      "\n"
     ]
    }
   ],
   "source": [
    "# Generate confusion matrix\n",
    "cm = confusion_matrix(y_test, y_pred)\n",
    "# Plot confusion matrix\n",
    "plt.figure(figsize=(5, 4))\n",
    "sns.heatmap(cm, annot=True, fmt=\"d\", cmap=\"Blues\")\n",
    "plt.xlabel('Predicted')\n",
    "plt.ylabel('True')\n",
    "plt.title('Confusion Matrix (Decision Tree)')\n",
    "plt.show()\n",
    "\n",
    "# Recall, Precision, F1-Score\n",
    "print(classification_report(y_test, y_pred))\n"
   ]
  },
  {
   "cell_type": "markdown",
   "metadata": {},
   "source": [
    "#### Results\n",
    "\n",
    "The decision tree model achieved a high accuracy on the test set. The confusion matrix shows that the model is able to predict the classes well. The classification metrics also show that the model has good precision, recall and f1-score."
   ]
  },
  {
   "cell_type": "markdown",
   "metadata": {},
   "source": [
    "### Logistic regression\n",
    "\n",
    "The other model that we will use is logistic regression. This model is a linear model for binary classification. It is a simple model that is easy to interpret. It is also a good model to use as a baseline model. "
   ]
  },
  {
   "cell_type": "code",
   "execution_count": 49,
   "metadata": {},
   "outputs": [
    {
     "name": "stdout",
     "output_type": "stream",
     "text": [
      "Accuracy: 1.00\n"
     ]
    }
   ],
   "source": [
    "# Fit logistic regression model\n",
    "model = LogisticRegression()\n",
    "model.fit(X_train, y_train)\n",
    "y_pred = model.predict(X_test)\n",
    "accuracy = accuracy_score(y_test, y_pred)\n",
    "print('Accuracy: {:.2f}'.format(accuracy))"
   ]
  },
  {
   "cell_type": "markdown",
   "metadata": {},
   "source": [
    "### Metrics\n",
    "\n",
    "We evaluate the logistic regression model using the accuracy score, confusion matrix and classification metrics."
   ]
  },
  {
   "cell_type": "code",
   "execution_count": 50,
   "metadata": {},
   "outputs": [
    {
     "data": {
      "image/png": "[encoded data removed]",
      "text/plain": [
       "<Figure size 500x400 with 2 Axes>"
      ]
     },
     "metadata": {},
     "output_type": "display_data"
    },
    {
     "name": "stdout",
     "output_type": "stream",
     "text": [
      "              precision    recall  f1-score   support\n",
      "\n",
      "           0       1.00      1.00      1.00    219249\n",
      "           1       1.00      1.00      1.00    130614\n",
      "\n",
      "    accuracy                           1.00    349863\n",
      "   macro avg       1.00      1.00      1.00    349863\n",
      "weighted avg       1.00      1.00      1.00    349863\n",
      "\n"
     ]
    }
   ],
   "source": [
    "# Generate confusion matrix\n",
    "cm = confusion_matrix(y_test, y_pred)\n",
    "# Plot confusion matrix\n",
    "plt.figure(figsize=(5, 4))\n",
    "sns.heatmap(cm, annot=True, fmt=\"d\", cmap=\"Blues\")\n",
    "plt.xlabel('Predicted')\n",
    "plt.ylabel('True')\n",
    "plt.title('Confusion Matrix (Logistic Regression)')\n",
    "plt.show()\n",
    "\n",
    "# Recall, Precision, F1-Score\n",
    "print(classification_report(y_test, y_pred))"
   ]
  },
  {
   "cell_type": "markdown",
   "metadata": {},
   "source": [
    "#### Results\n",
    "\n",
    "The accuracy of the logistic regression model is high. It is compareable tot the accuracy of the decision tree model. Even though the accuracy is similar, the logistic regression model is a better model because it is simpler and easier to interpret. From the confusion matrix and other metrix we can see how well the model predicts the training data, with only a few false positives and false negatives."
   ]
  },
  {
   "cell_type": "markdown",
   "metadata": {},
   "source": []
  }
 ],
 "metadata": {
  "kernelspec": {
   "display_name": "Python 3",
   "language": "python",
   "name": "python3"
  },
  "language_info": {
   "codemirror_mode": {
    "name": "ipython",
    "version": 3
   },
   "file_extension": ".py",
   "mimetype": "text/x-python",
   "name": "python",
   "nbconvert_exporter": "python",
   "pygments_lexer": "ipython3",
   "version": "3.8.9"
  }
 },
 "nbformat": 4,
 "nbformat_minor": 2
}
